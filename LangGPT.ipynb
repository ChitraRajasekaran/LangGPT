{
 "cells": [
  {
   "cell_type": "code",
   "execution_count": null,
   "id": "28997434-67f3-4873-84d4-46dd4c87e89e",
   "metadata": {},
   "outputs": [],
   "source": []
  }
 ],
 "metadata": {
  "kernelspec": {
   "display_name": "",
   "name": ""
  },
  "language_info": {
   "name": ""
  }
 },
 "nbformat": 4,
 "nbformat_minor": 5
}
